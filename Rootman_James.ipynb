{
 "cells": [
  {
   "cell_type": "markdown",
   "metadata": {},
   "source": [
    "#Stats 141SL - Dr. Rootman Case Study "
   ]
  },
  {
   "cell_type": "code",
   "execution_count": 3,
   "metadata": {},
   "outputs": [],
   "source": [
    "import numpy as np\n",
    "import pandas as pd"
   ]
  },
  {
   "cell_type": "code",
   "execution_count": 5,
   "metadata": {},
   "outputs": [
    {
     "data": {
      "text/html": [
       "<div>\n",
       "<style scoped>\n",
       "    .dataframe tbody tr th:only-of-type {\n",
       "        vertical-align: middle;\n",
       "    }\n",
       "\n",
       "    .dataframe tbody tr th {\n",
       "        vertical-align: top;\n",
       "    }\n",
       "\n",
       "    .dataframe thead th {\n",
       "        text-align: right;\n",
       "    }\n",
       "</style>\n",
       "<table border=\"1\" class=\"dataframe\">\n",
       "  <thead>\n",
       "    <tr style=\"text-align: right;\">\n",
       "      <th></th>\n",
       "      <th>name</th>\n",
       "      <th>deleted</th>\n",
       "      <th>verified</th>\n",
       "      <th>date</th>\n",
       "      <th>id</th>\n",
       "      <th>polygon/username</th>\n",
       "      <th>polygon/pt/0/x</th>\n",
       "      <th>polygon/pt/0/y</th>\n",
       "      <th>polygon/pt/1/x</th>\n",
       "      <th>polygon/pt/1/y</th>\n",
       "      <th>...</th>\n",
       "      <th>polygon/pt/24/x</th>\n",
       "      <th>polygon/pt/24/y</th>\n",
       "      <th>polygon/pt/25/x</th>\n",
       "      <th>polygon/pt/25/y</th>\n",
       "      <th>polygon/pt/26/x</th>\n",
       "      <th>polygon/pt/26/y</th>\n",
       "      <th>polygon/pt/27/x</th>\n",
       "      <th>polygon/pt/27/y</th>\n",
       "      <th>polygon/pt/28/x</th>\n",
       "      <th>polygon/pt/28/y</th>\n",
       "    </tr>\n",
       "  </thead>\n",
       "  <tbody>\n",
       "    <tr>\n",
       "      <th>0</th>\n",
       "      <td>32xn26mtxzvjtfw68kwcuoqy9pll0m-a3k758si907cg9</td>\n",
       "      <td>0</td>\n",
       "      <td>0</td>\n",
       "      <td>07-Feb-2019 14:58:04</td>\n",
       "      <td>154</td>\n",
       "      <td>36WLNQG780M8UGNIFGBYQUSISHMBEY</td>\n",
       "      <td>171</td>\n",
       "      <td>411</td>\n",
       "      <td>233</td>\n",
       "      <td>336</td>\n",
       "      <td>...</td>\n",
       "      <td>NaN</td>\n",
       "      <td>NaN</td>\n",
       "      <td>NaN</td>\n",
       "      <td>NaN</td>\n",
       "      <td>NaN</td>\n",
       "      <td>NaN</td>\n",
       "      <td>NaN</td>\n",
       "      <td>NaN</td>\n",
       "      <td>NaN</td>\n",
       "      <td>NaN</td>\n",
       "    </tr>\n",
       "    <tr>\n",
       "      <th>1</th>\n",
       "      <td>32xn26mtxzvjtfw68kwcuoqy9pll0m-a1nofp5dv5s7dw</td>\n",
       "      <td>0</td>\n",
       "      <td>0</td>\n",
       "      <td>07-Feb-2019 15:29:29</td>\n",
       "      <td>155</td>\n",
       "      <td>3EFE17QCRDHJVCVMG35Z1MZVOL0SHW</td>\n",
       "      <td>209</td>\n",
       "      <td>408</td>\n",
       "      <td>245</td>\n",
       "      <td>386</td>\n",
       "      <td>...</td>\n",
       "      <td>NaN</td>\n",
       "      <td>NaN</td>\n",
       "      <td>NaN</td>\n",
       "      <td>NaN</td>\n",
       "      <td>NaN</td>\n",
       "      <td>NaN</td>\n",
       "      <td>NaN</td>\n",
       "      <td>NaN</td>\n",
       "      <td>NaN</td>\n",
       "      <td>NaN</td>\n",
       "    </tr>\n",
       "    <tr>\n",
       "      <th>2</th>\n",
       "      <td>32xn26mtxzvjtfw68kwcuoqy9pll0m-a3n5p5vo81fij6</td>\n",
       "      <td>0</td>\n",
       "      <td>1</td>\n",
       "      <td>07-Feb-2019 15:30:49</td>\n",
       "      <td>156</td>\n",
       "      <td>3OVR4I9USQVD6KSE9SWBCXBQ1STQ4J</td>\n",
       "      <td>211</td>\n",
       "      <td>413</td>\n",
       "      <td>231</td>\n",
       "      <td>395</td>\n",
       "      <td>...</td>\n",
       "      <td>NaN</td>\n",
       "      <td>NaN</td>\n",
       "      <td>NaN</td>\n",
       "      <td>NaN</td>\n",
       "      <td>NaN</td>\n",
       "      <td>NaN</td>\n",
       "      <td>NaN</td>\n",
       "      <td>NaN</td>\n",
       "      <td>NaN</td>\n",
       "      <td>NaN</td>\n",
       "    </tr>\n",
       "    <tr>\n",
       "      <th>3</th>\n",
       "      <td>32xn26mtxzvjtfw68kwcuoqy9pll0m-a1mpgnvkji4zt6</td>\n",
       "      <td>0</td>\n",
       "      <td>-1</td>\n",
       "      <td>07-Feb-2019 15:35:57</td>\n",
       "      <td>160</td>\n",
       "      <td>34QN5IT0T03Q1SAH4XS9E30DQAS80B</td>\n",
       "      <td>201</td>\n",
       "      <td>411</td>\n",
       "      <td>219</td>\n",
       "      <td>391</td>\n",
       "      <td>...</td>\n",
       "      <td>NaN</td>\n",
       "      <td>NaN</td>\n",
       "      <td>NaN</td>\n",
       "      <td>NaN</td>\n",
       "      <td>NaN</td>\n",
       "      <td>NaN</td>\n",
       "      <td>NaN</td>\n",
       "      <td>NaN</td>\n",
       "      <td>NaN</td>\n",
       "      <td>NaN</td>\n",
       "    </tr>\n",
       "    <tr>\n",
       "      <th>4</th>\n",
       "      <td>32xn26mtxzvjtfw68kwcuoqy9pll0m-a2ej7u3tzakrog</td>\n",
       "      <td>0</td>\n",
       "      <td>0</td>\n",
       "      <td>07-Feb-2019 17:51:28</td>\n",
       "      <td>161</td>\n",
       "      <td>308Q0PEVB9P1MSA7DFNTK3VKWAV9I0</td>\n",
       "      <td>205</td>\n",
       "      <td>406</td>\n",
       "      <td>220</td>\n",
       "      <td>395</td>\n",
       "      <td>...</td>\n",
       "      <td>NaN</td>\n",
       "      <td>NaN</td>\n",
       "      <td>NaN</td>\n",
       "      <td>NaN</td>\n",
       "      <td>NaN</td>\n",
       "      <td>NaN</td>\n",
       "      <td>NaN</td>\n",
       "      <td>NaN</td>\n",
       "      <td>NaN</td>\n",
       "      <td>NaN</td>\n",
       "    </tr>\n",
       "  </tbody>\n",
       "</table>\n",
       "<p>5 rows × 64 columns</p>\n",
       "</div>"
      ],
      "text/plain": [
       "                                            name  deleted  verified  \\\n",
       "0  32xn26mtxzvjtfw68kwcuoqy9pll0m-a3k758si907cg9        0         0   \n",
       "1  32xn26mtxzvjtfw68kwcuoqy9pll0m-a1nofp5dv5s7dw        0         0   \n",
       "2  32xn26mtxzvjtfw68kwcuoqy9pll0m-a3n5p5vo81fij6        0         1   \n",
       "3  32xn26mtxzvjtfw68kwcuoqy9pll0m-a1mpgnvkji4zt6        0        -1   \n",
       "4  32xn26mtxzvjtfw68kwcuoqy9pll0m-a2ej7u3tzakrog        0         0   \n",
       "\n",
       "                   date   id                polygon/username  polygon/pt/0/x  \\\n",
       "0  07-Feb-2019 14:58:04  154  36WLNQG780M8UGNIFGBYQUSISHMBEY             171   \n",
       "1  07-Feb-2019 15:29:29  155  3EFE17QCRDHJVCVMG35Z1MZVOL0SHW             209   \n",
       "2  07-Feb-2019 15:30:49  156  3OVR4I9USQVD6KSE9SWBCXBQ1STQ4J             211   \n",
       "3  07-Feb-2019 15:35:57  160  34QN5IT0T03Q1SAH4XS9E30DQAS80B             201   \n",
       "4  07-Feb-2019 17:51:28  161  308Q0PEVB9P1MSA7DFNTK3VKWAV9I0             205   \n",
       "\n",
       "   polygon/pt/0/y  polygon/pt/1/x  polygon/pt/1/y       ...         \\\n",
       "0             411             233             336       ...          \n",
       "1             408             245             386       ...          \n",
       "2             413             231             395       ...          \n",
       "3             411             219             391       ...          \n",
       "4             406             220             395       ...          \n",
       "\n",
       "   polygon/pt/24/x  polygon/pt/24/y  polygon/pt/25/x  polygon/pt/25/y  \\\n",
       "0              NaN              NaN              NaN              NaN   \n",
       "1              NaN              NaN              NaN              NaN   \n",
       "2              NaN              NaN              NaN              NaN   \n",
       "3              NaN              NaN              NaN              NaN   \n",
       "4              NaN              NaN              NaN              NaN   \n",
       "\n",
       "   polygon/pt/26/x  polygon/pt/26/y  polygon/pt/27/x  polygon/pt/27/y  \\\n",
       "0              NaN              NaN              NaN              NaN   \n",
       "1              NaN              NaN              NaN              NaN   \n",
       "2              NaN              NaN              NaN              NaN   \n",
       "3              NaN              NaN              NaN              NaN   \n",
       "4              NaN              NaN              NaN              NaN   \n",
       "\n",
       "   polygon/pt/28/x  polygon/pt/28/y  \n",
       "0              NaN              NaN  \n",
       "1              NaN              NaN  \n",
       "2              NaN              NaN  \n",
       "3              NaN              NaN  \n",
       "4              NaN              NaN  \n",
       "\n",
       "[5 rows x 64 columns]"
      ]
     },
     "execution_count": 5,
     "metadata": {},
     "output_type": "execute_result"
    }
   ],
   "source": [
    "root = pd.read_excel(\"rootman 1 winter 19.xlsx\")\n",
    "root.head()"
   ]
  },
  {
   "cell_type": "code",
   "execution_count": 6,
   "metadata": {},
   "outputs": [
    {
     "data": {
      "text/plain": [
       "(59, 64)"
      ]
     },
     "execution_count": 6,
     "metadata": {},
     "output_type": "execute_result"
    }
   ],
   "source": [
    "root.shape\n",
    "# 59 bhttp://localhost:8888/notebooks/Desktop/Github%20Repository/Dr.-Rootman-Case-Study/Rootman_James.ipynb#y 64"
   ]
  },
  {
   "cell_type": "code",
   "execution_count": 7,
   "metadata": {},
   "outputs": [
    {
     "data": {
      "text/plain": [
       "deleted\n",
       "0    51\n",
       "1     8\n",
       "Name: id, dtype: int64"
      ]
     },
     "execution_count": 7,
     "metadata": {},
     "output_type": "execute_result"
    }
   ],
   "source": [
    "root.groupby('deleted')['id'].nunique()"
   ]
  },
  {
   "cell_type": "code",
   "execution_count": 8,
   "metadata": {},
   "outputs": [
    {
     "data": {
      "text/plain": [
       "verified\n",
       "-1    13\n",
       " 0    35\n",
       " 1    11\n",
       "Name: id, dtype: int64"
      ]
     },
     "execution_count": 8,
     "metadata": {},
     "output_type": "execute_result"
    }
   ],
   "source": [
    "root.groupby('verified')['id'].nunique()"
   ]
  },
  {
   "cell_type": "code",
   "execution_count": 9,
   "metadata": {},
   "outputs": [],
   "source": [
    "### compare dots on the empty grid provided above using x/y coords\n",
    "### still worth counting number of dots and area of polygons imo, but up to discussion\n",
    "### need to compare to photos provided "
   ]
  },
  {
   "cell_type": "markdown",
   "metadata": {},
   "source": [
    "## Rita's Script Translated "
   ]
  },
  {
   "cell_type": "code",
   "execution_count": 36,
   "metadata": {},
   "outputs": [
    {
     "data": {
      "text/plain": [
       "dtype('float64')"
      ]
     },
     "execution_count": 36,
     "metadata": {},
     "output_type": "execute_result"
    }
   ],
   "source": [
    "# Create matrix of only coordinates\n",
    "rootman_coord = root.iloc[:,7:64] \n",
    "rootman_coord = rootman_coord.values\n",
    "rootman_coord[np.isnan(rootman_coord)] = 0\n",
    "# rootman_coord.dtype # <- type float\n",
    "rootman_coord"
   ]
  },
  {
   "cell_type": "code",
   "execution_count": 46,
   "metadata": {},
   "outputs": [
    {
     "data": {
      "text/plain": [
       "array([[0., 0., 0., ..., 0., 0., 0.],\n",
       "       [0., 0., 0., ..., 0., 0., 0.],\n",
       "       [0., 0., 0., ..., 0., 0., 0.],\n",
       "       ...,\n",
       "       [0., 0., 0., ..., 0., 0., 0.],\n",
       "       [0., 0., 0., ..., 0., 0., 0.],\n",
       "       [0., 0., 0., ..., 0., 0., 0.]])"
      ]
     },
     "execution_count": 46,
     "metadata": {},
     "output_type": "execute_result"
    }
   ],
   "source": [
    "#from numpy import zeros\n",
    "zeros([1000,1000])"
   ]
  }
 ],
 "metadata": {
  "kernelspec": {
   "display_name": "Python 3",
   "language": "python",
   "name": "python3"
  },
  "language_info": {
   "codemirror_mode": {
    "name": "ipython",
    "version": 3
   },
   "file_extension": ".py",
   "mimetype": "text/x-python",
   "name": "python",
   "nbconvert_exporter": "python",
   "pygments_lexer": "ipython3",
   "version": "3.7.0"
  }
 },
 "nbformat": 4,
 "nbformat_minor": 2
}
